{
  "nbformat": 4,
  "nbformat_minor": 0,
  "metadata": {
    "kernelspec": {
      "display_name": "Python 3",
      "language": "python",
      "name": "python3"
    },
    "language_info": {
      "codemirror_mode": {
        "name": "ipython",
        "version": 3
      },
      "file_extension": ".py",
      "mimetype": "text/x-python",
      "name": "python",
      "nbconvert_exporter": "python",
      "pygments_lexer": "ipython3",
      "version": "3.6.6"
    },
    "colab": {
      "name": "Benchmark.ipynb",
      "provenance": []
    },
    "accelerator": "GPU"
  },
  "cells": [
    {
      "cell_type": "markdown",
      "metadata": {
        "id": "QDANiMlSOVKa"
      },
      "source": [
        "<a href=\"https://colab.research.google.com/github/neurorishika/PSST/blob/colab-kaggle-restructure/Tutorial/Optional%20Material/TensorFlow%20Benchmark/Benchmark.ipynb\" target=\"_parent\"><img src=\"https://colab.research.google.com/assets/colab-badge.svg\" alt=\"Open In Colab\\\"/></a> &nbsp; <a href=\"https://kaggle.com/kernels/welcome?src=https://raw.githubusercontent.com/neurorishika/PSST/colab-kaggle-restructure/Tutorial/Optional%20Material/TensorFlow%20Benchmark/Benchmark.ipynb\" target=\"_parent\"><img src=\"https://kaggle.com/static/images/open-in-kaggle.svg\" alt=\"Open in Kaggle\"/></a>"
      ]
    },
    {
      "cell_type": "markdown",
      "metadata": {
        "id": "isVaedqtp1Cc"
      },
      "source": [
        "## Comparing Python vs TensorFlow Performance\n",
        "\n",
        "To justify why we use TensorFlow over normal python, we can run some benchmarks for simple operations and compare the two implementations."
      ]
    },
    {
      "cell_type": "code",
      "metadata": {
        "id": "Ftzs8Cowp1Cd"
      },
      "source": [
        "import numpy as np\n",
        "import matplotlib.pyplot as plt\n",
        "import tensorflow.compat.v1 as tf\n",
        "tf.disable_eager_execution()\n",
        "import time as time"
      ],
      "execution_count": 1,
      "outputs": []
    },
    {
      "cell_type": "code",
      "metadata": {
        "colab": {
          "base_uri": "https://localhost:8080/"
        },
        "id": "uyDW4usdqFrj",
        "outputId": "5f42493b-d131-4fff-97ae-f170d88a61ef"
      },
      "source": [
        "!nvidia-smi"
      ],
      "execution_count": 2,
      "outputs": [
        {
          "output_type": "stream",
          "text": [
            "Fri Aug 27 09:52:44 2021       \n",
            "+-----------------------------------------------------------------------------+\n",
            "| NVIDIA-SMI 470.57.02    Driver Version: 460.32.03    CUDA Version: 11.2     |\n",
            "|-------------------------------+----------------------+----------------------+\n",
            "| GPU  Name        Persistence-M| Bus-Id        Disp.A | Volatile Uncorr. ECC |\n",
            "| Fan  Temp  Perf  Pwr:Usage/Cap|         Memory-Usage | GPU-Util  Compute M. |\n",
            "|                               |                      |               MIG M. |\n",
            "|===============================+======================+======================|\n",
            "|   0  Tesla K80           Off  | 00000000:00:04.0 Off |                    0 |\n",
            "| N/A   34C    P8    28W / 149W |      0MiB / 11441MiB |      0%      Default |\n",
            "|                               |                      |                  N/A |\n",
            "+-------------------------------+----------------------+----------------------+\n",
            "                                                                               \n",
            "+-----------------------------------------------------------------------------+\n",
            "| Processes:                                                                  |\n",
            "|  GPU   GI   CI        PID   Type   Process name                  GPU Memory |\n",
            "|        ID   ID                                                   Usage      |\n",
            "|=============================================================================|\n",
            "|  No running processes found                                                 |\n",
            "+-----------------------------------------------------------------------------+\n"
          ],
          "name": "stdout"
        }
      ]
    },
    {
      "cell_type": "code",
      "metadata": {
        "colab": {
          "base_uri": "https://localhost:8080/"
        },
        "id": "EmkokN3DuoBr",
        "outputId": "091780cb-992b-446f-eb86-8e53188705bd"
      },
      "source": [
        "!lscpu"
      ],
      "execution_count": 3,
      "outputs": [
        {
          "output_type": "stream",
          "text": [
            "Architecture:        x86_64\n",
            "CPU op-mode(s):      32-bit, 64-bit\n",
            "Byte Order:          Little Endian\n",
            "CPU(s):              2\n",
            "On-line CPU(s) list: 0,1\n",
            "Thread(s) per core:  2\n",
            "Core(s) per socket:  1\n",
            "Socket(s):           1\n",
            "NUMA node(s):        1\n",
            "Vendor ID:           GenuineIntel\n",
            "CPU family:          6\n",
            "Model:               63\n",
            "Model name:          Intel(R) Xeon(R) CPU @ 2.30GHz\n",
            "Stepping:            0\n",
            "CPU MHz:             2299.998\n",
            "BogoMIPS:            4599.99\n",
            "Hypervisor vendor:   KVM\n",
            "Virtualization type: full\n",
            "L1d cache:           32K\n",
            "L1i cache:           32K\n",
            "L2 cache:            256K\n",
            "L3 cache:            46080K\n",
            "NUMA node0 CPU(s):   0,1\n",
            "Flags:               fpu vme de pse tsc msr pae mce cx8 apic sep mtrr pge mca cmov pat pse36 clflush mmx fxsr sse sse2 ss ht syscall nx pdpe1gb rdtscp lm constant_tsc rep_good nopl xtopology nonstop_tsc cpuid tsc_known_freq pni pclmulqdq ssse3 fma cx16 pcid sse4_1 sse4_2 x2apic movbe popcnt aes xsave avx f16c rdrand hypervisor lahf_lm abm invpcid_single ssbd ibrs ibpb stibp fsgsbase tsc_adjust bmi1 avx2 smep bmi2 erms invpcid xsaveopt arat md_clear arch_capabilities\n"
          ],
          "name": "stdout"
        }
      ]
    },
    {
      "cell_type": "markdown",
      "metadata": {
        "id": "K41htq7tp1Ce"
      },
      "source": [
        "### Matrix Multiplication\n",
        "\n",
        "We compare the time takes for Python and TensorFlow to evaluate the product of two matrices of varying sizes."
      ]
    },
    {
      "cell_type": "code",
      "metadata": {
        "id": "nyIYXpNyp1Cf"
      },
      "source": [
        "n_replicate = 20\n",
        "matrix_sizes = [8,32,128,512,2048,8192]"
      ],
      "execution_count": 4,
      "outputs": []
    },
    {
      "cell_type": "markdown",
      "metadata": {
        "id": "Dvlg4vJ3p1Ch"
      },
      "source": [
        "#### In TensorFlow CPU"
      ]
    },
    {
      "cell_type": "code",
      "metadata": {
        "colab": {
          "base_uri": "https://localhost:8080/"
        },
        "id": "Y_774k31p1Ci",
        "outputId": "7b88c646-b19d-4ae2-d3ff-0e5e5808f77a"
      },
      "source": [
        "config = tf.ConfigProto(\n",
        "        device_count = {'GPU': 0}\n",
        "    )\n",
        "with open(\"TFCPUMatrixBenchmark.csv\",\"w\") as file:\n",
        "  file.write(\"Matrix Size,Median,Lower 95% CI,Upper 95% CI\\n\")\n",
        "  for n in matrix_sizes:\n",
        "    run_time = []\n",
        "    for i in range(n_replicate):\n",
        "        start = time.time()\n",
        "        tf.reset_default_graph()\n",
        "        with tf.device('/CPU:0'):\n",
        "          a = tf.random_uniform([n,n])\n",
        "          b = tf.random_uniform([n,n])\n",
        "          c = tf.matmul(a,b)\n",
        "        with tf.Session(config=config) as sess:\n",
        "            sess.run(tf.global_variables_initializer())\n",
        "            c = sess.run(c)\n",
        "        end = time.time()\n",
        "        run_time.append(end-start)\n",
        "    median = np.median(run_time)\n",
        "    lci = np.quantile(run_time,0.05)\n",
        "    uci = np.quantile(run_time,0.95)\n",
        "    file.write(\"{}x{},{:0.4f},{:0.4f},{:0.4f}\\n\".format(n,n,median,lci,uci))\n",
        "    print(\"For a {}x{} Matrix, Runtime = {:0.4f} ({:0.4f}-{:0.4f}) secs\".format(n,n,median,lci,uci))"
      ],
      "execution_count": 5,
      "outputs": [
        {
          "output_type": "stream",
          "text": [
            "For a 8x8 Matrix, Runtime = 0.0076 (0.0072-0.0304) secs\n",
            "For a 32x32 Matrix, Runtime = 0.0071 (0.0069-0.0081) secs\n",
            "For a 128x128 Matrix, Runtime = 0.0079 (0.0075-0.0116) secs\n",
            "For a 512x512 Matrix, Runtime = 0.0148 (0.0136-0.0213) secs\n",
            "For a 2048x2048 Matrix, Runtime = 0.3042 (0.2912-0.3201) secs\n",
            "For a 8192x8192 Matrix, Runtime = 18.9908 (18.8000-19.3735) secs\n"
          ],
          "name": "stdout"
        }
      ]
    },
    {
      "cell_type": "markdown",
      "metadata": {
        "id": "sMwQVMyAvnn7"
      },
      "source": [
        "TensorFlow GPU Version"
      ]
    },
    {
      "cell_type": "code",
      "metadata": {
        "colab": {
          "base_uri": "https://localhost:8080/"
        },
        "id": "g-g_jDpJvnn8",
        "outputId": "48ef5dad-56fd-4a1f-a03f-669c629fdeec"
      },
      "source": [
        "with open(\"TFGPUMatrixBenchmark.csv\",\"w\") as file:\n",
        "  file.write(\"Matrix Size,Median,Lower 95% CI,Upper 95% CI\\n\")\n",
        "  for n in matrix_sizes:\n",
        "    run_time = []\n",
        "    for i in range(n_replicate):\n",
        "        start = time.time()\n",
        "        tf.reset_default_graph()\n",
        "        with tf.device('/GPU:0'):\n",
        "          a = tf.random_uniform([n,n])\n",
        "          b = tf.random_uniform([n,n])\n",
        "          c = tf.matmul(a,b)\n",
        "        with tf.Session() as sess:\n",
        "            sess.run(tf.global_variables_initializer())\n",
        "            c = sess.run(c)\n",
        "        end = time.time()\n",
        "        run_time.append(end-start)\n",
        "    median = np.median(run_time)\n",
        "    lci = np.quantile(run_time,0.05)\n",
        "    uci = np.quantile(run_time,0.95)\n",
        "    file.write(\"{}x{},{:0.4f},{:0.4f},{:0.4f}\\n\".format(n,n,median,lci,uci))\n",
        "    print(\"For a {}x{} Matrix, Runtime = {:0.4f} ({:0.4f}-{:0.4f}) secs\".format(n,n,median,lci,uci))"
      ],
      "execution_count": 6,
      "outputs": [
        {
          "output_type": "stream",
          "text": [
            "For a 8x8 Matrix, Runtime = 0.0138 (0.0133-0.3986) secs\n",
            "For a 32x32 Matrix, Runtime = 0.0136 (0.0132-0.0170) secs\n",
            "For a 128x128 Matrix, Runtime = 0.0139 (0.0133-0.0164) secs\n",
            "For a 512x512 Matrix, Runtime = 0.0153 (0.0142-0.0192) secs\n",
            "For a 2048x2048 Matrix, Runtime = 0.0265 (0.0258-0.0292) secs\n",
            "For a 8192x8192 Matrix, Runtime = 0.4717 (0.4657-0.5200) secs\n"
          ],
          "name": "stdout"
        }
      ]
    },
    {
      "cell_type": "markdown",
      "metadata": {
        "id": "w1Wd2okMp1Cg"
      },
      "source": [
        "#### NumPy Version (CPU only)"
      ]
    },
    {
      "cell_type": "code",
      "metadata": {
        "colab": {
          "base_uri": "https://localhost:8080/"
        },
        "id": "ibRIdYVSp1Cg",
        "outputId": "0e0edaa5-4652-4dd4-bd7f-8b1f7278b01d"
      },
      "source": [
        "with open(\"NumpyMatrixBenchmark.csv\",\"w\") as file:\n",
        "  file.write(\"Matrix Size,Median,Lower 95% CI,Upper 95% CI\\n\")\n",
        "  for n in matrix_sizes:\n",
        "    run_time = []\n",
        "    for i in range(n_replicate):\n",
        "        start = time.time()\n",
        "        a = np.random.uniform(size=(n,n))\n",
        "        b = np.random.uniform(size=(n,n))\n",
        "        c = np.matmul(a,b)\n",
        "        end = time.time()\n",
        "        run_time.append(end-start)\n",
        "    median = np.median(run_time)\n",
        "    lci = np.quantile(run_time,0.05)\n",
        "    uci = np.quantile(run_time,0.95)\n",
        "    file.write(\"{}x{},{:0.4f},{:0.4f},{:0.4f}\\n\".format(n,n,median,lci,uci))\n",
        "    print(\"For a {}x{} Matrix, Runtime = {:0.4f} ({:0.4f}-{:0.4f}) secs\".format(n,n,median,lci,uci))"
      ],
      "execution_count": 7,
      "outputs": [
        {
          "output_type": "stream",
          "text": [
            "For a 8x8 Matrix, Runtime = 0.0000 (0.0000-0.0022) secs\n",
            "For a 32x32 Matrix, Runtime = 0.0000 (0.0000-0.0001) secs\n",
            "For a 128x128 Matrix, Runtime = 0.0031 (0.0030-0.0033) secs\n",
            "For a 512x512 Matrix, Runtime = 0.0223 (0.0199-0.0260) secs\n",
            "For a 2048x2048 Matrix, Runtime = 0.6440 (0.6299-0.6595) secs\n",
            "For a 8192x8192 Matrix, Runtime = 33.3957 (32.8667-33.6082) secs\n"
          ],
          "name": "stdout"
        }
      ]
    },
    {
      "cell_type": "markdown",
      "metadata": {
        "id": "4NteVFH2p1Cj"
      },
      "source": [
        "### RK4 Integration\n",
        "\n",
        "We compare the time takes for Python and TensorFlow to evaluate the integrate varying numbers of the differential equations of the form $\\dot x = \\sin{xt}$ ."
      ]
    },
    {
      "cell_type": "code",
      "metadata": {
        "id": "PQ5D0lk_p1Ck"
      },
      "source": [
        "n_replicate = 20\n",
        "equation_sizes = [1,10,100,1000,10000,100000]\n",
        "t = np.arange(0,5,0.01)"
      ],
      "execution_count": 8,
      "outputs": []
    },
    {
      "cell_type": "markdown",
      "metadata": {
        "id": "CrdKIGoup1Cl"
      },
      "source": [
        "#### TensorFlow Integrator"
      ]
    },
    {
      "cell_type": "code",
      "metadata": {
        "id": "bFgFZVegp1Cm"
      },
      "source": [
        "def tf_check_type(t, y0): # Ensure Input is Correct\n",
        "    if not (y0.dtype.is_floating and t.dtype.is_floating):\n",
        "        raise TypeError('Error in Datatype')\n",
        "\n",
        "class Tf_Integrator():\n",
        "    \n",
        "    def integrate(self, func, y0, t): \n",
        "        time_delta_grid = t[1:] - t[:-1]\n",
        "        \n",
        "        def scan_func(y, t_dt): \n",
        "            t, dt = t_dt\n",
        "            dy = self._step_func(func,t,dt,y)\n",
        "            return y + dy\n",
        "\n",
        "        y = tf.scan(scan_func, (t[:-1], time_delta_grid),y0)\n",
        "        return tf.concat([[y0], y], axis=0)\n",
        "    \n",
        "    def _step_func(self, func, t, dt, y):\n",
        "        k1 = func(y, t)\n",
        "        half_step = t + dt / 2\n",
        "        dt_cast = tf.cast(dt, y.dtype) # Failsafe\n",
        "\n",
        "        k2 = func(y + dt_cast * k1 / 2, half_step)\n",
        "        k3 = func(y + dt_cast * k2 / 2, half_step)\n",
        "        k4 = func(y + dt_cast * k3, t + dt)\n",
        "        return tf.add_n([k1, 2 * k2, 2 * k3, k4]) * (dt_cast / 6)\n",
        "    \n",
        "\n",
        "def odeint_tf(func, y0, t):\n",
        "    t = tf.convert_to_tensor(t, preferred_dtype=tf.float64, name='t')\n",
        "    y0 = tf.convert_to_tensor(y0, name='y0')\n",
        "    tf_check_type(y0,t)\n",
        "    return Tf_Integrator().integrate(func,y0,t)\n",
        "        \n",
        "def f(X,t):\n",
        "    return tf.sin(X*t)"
      ],
      "execution_count": 9,
      "outputs": []
    },
    {
      "cell_type": "markdown",
      "metadata": {
        "id": "fGC78PZ26t_q"
      },
      "source": [
        "TensorFlow CPU version"
      ]
    },
    {
      "cell_type": "code",
      "metadata": {
        "colab": {
          "base_uri": "https://localhost:8080/"
        },
        "id": "yM4E1fgB6w-m",
        "outputId": "4b0b6910-c022-470a-aa71-e8b35c65deda"
      },
      "source": [
        "config = tf.ConfigProto(\n",
        "        device_count = {'GPU': 0}\n",
        "    )\n",
        "\n",
        "with open(\"TFCPUIntegrationBenchmark.csv\",\"w\") as file:\n",
        "  file.write(\"Number of Equations,Median,Lower 95% CI,Upper 95% CI\\n\")\n",
        "  for n in equation_sizes:\n",
        "    run_time = []\n",
        "    for i in range(n_replicate):\n",
        "        start = time.time()\n",
        "        tf.reset_default_graph()\n",
        "        with tf.device('/CPU:0'):\n",
        "          state = odeint_tf(f,tf.constant([0.]*n,dtype=tf.float64),t)\n",
        "        with tf.Session(config=config) as sess:\n",
        "            sess.run(tf.global_variables_initializer())\n",
        "            state = sess.run(state)\n",
        "        end = time.time()\n",
        "        run_time.append(end-start)\n",
        "    median = np.median(run_time)\n",
        "    lci = np.quantile(run_time,0.05)\n",
        "    uci = np.quantile(run_time,0.95)\n",
        "    file.write(\"{},{:0.4f},{:0.4f},{:0.4f}\\n\".format(n,median,lci,uci))\n",
        "    print(\"For {} equation(s), Runtime = {:0.4f} ({:0.4f}-{:0.4f}) secs\".format(n,median,lci,uci))"
      ],
      "execution_count": 10,
      "outputs": [
        {
          "output_type": "stream",
          "text": [
            "For 1 equation(s), Runtime = 0.1129 (0.1047-0.2044) secs\n",
            "For 10 equation(s), Runtime = 0.1097 (0.1064-0.1235) secs\n",
            "For 100 equation(s), Runtime = 0.1158 (0.1128-0.1258) secs\n",
            "For 1000 equation(s), Runtime = 0.1575 (0.1492-0.1686) secs\n",
            "For 10000 equation(s), Runtime = 0.4570 (0.4499-0.4771) secs\n",
            "For 100000 equation(s), Runtime = 3.7758 (3.7220-3.8195) secs\n"
          ],
          "name": "stdout"
        }
      ]
    },
    {
      "cell_type": "markdown",
      "metadata": {
        "id": "rvHNAp3g61Jz"
      },
      "source": [
        "TensorFlow GPU Version"
      ]
    },
    {
      "cell_type": "code",
      "metadata": {
        "colab": {
          "base_uri": "https://localhost:8080/"
        },
        "id": "ebiKfe-460rw",
        "outputId": "089cf362-cac1-4f59-bdb9-8fe058a09aaf"
      },
      "source": [
        "with open(\"TFGPUIntegrationBenchmark.csv\",\"w\") as file:\n",
        "  file.write(\"Number of Equations,Median,Lower 95% CI,Upper 95% CI\\n\")\n",
        "  for n in equation_sizes:\n",
        "    run_time = []\n",
        "    for i in range(n_replicate):\n",
        "        start = time.time()\n",
        "        tf.reset_default_graph()\n",
        "        with tf.device('/GPU:0'):\n",
        "          state = odeint_tf(f,tf.constant([0.]*n,dtype=tf.float64),t)\n",
        "        with tf.Session() as sess:\n",
        "            sess.run(tf.global_variables_initializer())\n",
        "            state = sess.run(state)\n",
        "        end = time.time()\n",
        "        run_time.append(end-start)\n",
        "    median = np.median(run_time)\n",
        "    lci = np.quantile(run_time,0.05)\n",
        "    uci = np.quantile(run_time,0.95)\n",
        "    file.write(\"{},{:0.4f},{:0.4f},{:0.4f}\\n\".format(n,median,lci,uci))\n",
        "    print(\"For {} equation(s), Runtime = {:0.4f} ({:0.4f}-{:0.4f}) secs\".format(n,median,lci,uci))"
      ],
      "execution_count": 11,
      "outputs": [
        {
          "output_type": "stream",
          "text": [
            "For 1 equation(s), Runtime = 0.4121 (0.3917-0.4338) secs\n",
            "For 10 equation(s), Runtime = 0.4143 (0.4028-0.4378) secs\n",
            "For 100 equation(s), Runtime = 0.4395 (0.4120-0.5239) secs\n",
            "For 1000 equation(s), Runtime = 0.4443 (0.4257-0.4611) secs\n",
            "For 10000 equation(s), Runtime = 0.4701 (0.4550-0.5066) secs\n",
            "For 100000 equation(s), Runtime = 0.6729 (0.6429-0.7258) secs\n"
          ],
          "name": "stdout"
        }
      ]
    },
    {
      "cell_type": "markdown",
      "metadata": {
        "id": "2VNv4VSlp1Ck"
      },
      "source": [
        "#### Numpy Integrator"
      ]
    },
    {
      "cell_type": "code",
      "metadata": {
        "id": "vDJDV5_5p1Ck"
      },
      "source": [
        "def python_check_type(y,t): # Ensure Input is Correct\n",
        "    return y.dtype == np.floating and t.dtype == np.floating\n",
        "\n",
        "class python_Integrator():\n",
        "    \n",
        "    def integrate(self,func,y0,t):\n",
        "        time_delta_grid = t[1:] - t[:-1]\n",
        "        \n",
        "        y = np.zeros((y0.shape[0],t.shape[0]))\n",
        "        y[:,0] = y0\n",
        "\n",
        "        for i in range(time_delta_grid.shape[0]):\n",
        "            k1 = func(y[:,i], t[i])                               # RK4 Integration Steps\n",
        "            half_step = t[i] + time_delta_grid[i] / 2\n",
        "            k2 = func(y[:,i] + time_delta_grid[i] * k1 / 2, half_step)\n",
        "            k3 = func(y[:,i] + time_delta_grid[i] * k2 / 2, half_step)\n",
        "            k4 = func(y[:,i] + time_delta_grid[i] * k3, t[i] + time_delta_grid[i])\n",
        "            y[:,i+1]= (k1 + 2 * k2 + 2 * k3 + k4) * (time_delta_grid[i] / 6) + y[:,i]\n",
        "        return y\n",
        "\n",
        "def odeint_python(func,y0,t):\n",
        "    y0 = np.array(y0)\n",
        "    t = np.array(t)\n",
        "    if python_check_type(y0,t):\n",
        "        return python_Integrator().integrate(func,y0,t)\n",
        "    else:\n",
        "        print(\"error encountered\")\n",
        "        \n",
        "def f(X,t):\n",
        "    return np.sin(X*t)"
      ],
      "execution_count": 12,
      "outputs": []
    },
    {
      "cell_type": "markdown",
      "metadata": {
        "id": "yyeMCTx47gFr"
      },
      "source": [
        "NumPy (CPU only)"
      ]
    },
    {
      "cell_type": "code",
      "metadata": {
        "colab": {
          "base_uri": "https://localhost:8080/"
        },
        "id": "Y2k9a8e97fUf",
        "outputId": "1a765c91-7aa1-4120-bba4-e62ec2796771"
      },
      "source": [
        "with open(\"NumpyIntegrationBenchmark.csv\",\"w\") as file:\n",
        "  file.write(\"Number of Equations,Median,Lower 95% CI,Upper 95% CI\\n\")\n",
        "  for n in equation_sizes:\n",
        "    run_time = []\n",
        "    for i in range(n_replicate):\n",
        "        start = time.time()\n",
        "        solution = odeint_python(f,[0.]*n,t)\n",
        "        end = time.time()\n",
        "        run_time.append(end-start)\n",
        "    median = np.median(run_time)\n",
        "    lci = np.quantile(run_time,0.05)\n",
        "    uci = np.quantile(run_time,0.95)\n",
        "    file.write(\"{},{:0.4f},{:0.4f},{:0.4f}\\n\".format(n,median,lci,uci))\n",
        "    print(\"For {} equation(s), Runtime = {:0.4f} ({:0.4f}-{:0.4f}) secs\".format(n,median,lci,uci))"
      ],
      "execution_count": 13,
      "outputs": [
        {
          "output_type": "stream",
          "text": [
            "/usr/local/lib/python3.7/dist-packages/ipykernel_launcher.py:2: DeprecationWarning: Converting `np.inexact` or `np.floating` to a dtype is deprecated. The current result is `float64` which is not strictly correct.\n",
            "  \n"
          ],
          "name": "stderr"
        },
        {
          "output_type": "stream",
          "text": [
            "For 1 equation(s), Runtime = 0.0355 (0.0343-0.0392) secs\n",
            "For 10 equation(s), Runtime = 0.0247 (0.0165-0.0447) secs\n",
            "For 100 equation(s), Runtime = 0.0480 (0.0457-0.0498) secs\n",
            "For 1000 equation(s), Runtime = 0.0826 (0.0791-0.0925) secs\n",
            "For 10000 equation(s), Runtime = 0.7697 (0.7479-0.7913) secs\n",
            "For 100000 equation(s), Runtime = 5.3550 (3.3901-7.4485) secs\n"
          ],
          "name": "stdout"
        }
      ]
    }
  ]
}